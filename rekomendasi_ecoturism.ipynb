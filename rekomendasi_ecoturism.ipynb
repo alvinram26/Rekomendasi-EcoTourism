{
  "nbformat": 4,
  "nbformat_minor": 0,
  "metadata": {
    "colab": {
      "provenance": []
    },
    "kernelspec": {
      "name": "python3",
      "display_name": "Python 3"
    },
    "language_info": {
      "name": "python"
    }
  },
  "cells": [
    {
      "cell_type": "code",
      "execution_count": null,
      "metadata": {
        "colab": {
          "base_uri": "https://localhost:8080/"
        },
        "id": "39EKBtU0OyDs",
        "outputId": "2928aa4e-42ae-4f5b-f3e8-230bf6182684"
      },
      "outputs": [
        {
          "output_type": "stream",
          "name": "stdout",
          "text": [
            "Mounted at /content/drive\n"
          ]
        }
      ],
      "source": [
        "#Mount Google Drive\n",
        "from google.colab import drive\n",
        "drive.mount(\"/content/drive\")"
      ]
    },
    {
      "cell_type": "code",
      "source": [
        "import matplotlib.pyplot as plt\n",
        "import pandas as pd\n",
        "from wordcloud import WordCloud,STOPWORDS\n",
        "from collections import Counter\n",
        "from google.colab import files"
      ],
      "metadata": {
        "id": "raH8RTpXPRae"
      },
      "execution_count": null,
      "outputs": []
    },
    {
      "cell_type": "code",
      "source": [
        "\n",
        "# Load the eco_place.csv dataset\n",
        "place_df = pd.read_csv(\"/content/drive/My Drive/sisrek/eco_place.csv\")\n",
        "# Load the eco_rating.csv dataset\n",
        "ratings_df = pd.read_csv(\"/content/drive/My Drive/sisrek/eco_rating.csv\")\n",
        "\n",
        "# Merge the two datasets\n",
        "merged_df = place_df.merge(ratings_df, on=\"place_id\")\n",
        "# Select only the desired columns\n",
        "merged_df = merged_df[[\"user_id\", \"place_id\", \"place_name\", \"rating\"]]\n",
        "\n",
        "# Print the merged dataset\n",
        "print(merged_df)\n"
      ],
      "metadata": {
        "colab": {
          "base_uri": "https://localhost:8080/"
        },
        "id": "88yWScLlUKmL",
        "outputId": "d2921ef5-7f4d-48e7-8878-29f3fe599e72"
      },
      "execution_count": null,
      "outputs": [
        {
          "output_type": "stream",
          "name": "stdout",
          "text": [
            "     user_id  place_id          place_name  rating\n",
            "0         46         2  Desa Wisata Munduk     4.5\n",
            "1         75         2  Desa Wisata Munduk     4.5\n",
            "2         79         2  Desa Wisata Munduk     4.5\n",
            "3         94         2  Desa Wisata Munduk     4.5\n",
            "4        137         2  Desa Wisata Munduk     4.5\n",
            "..       ...       ...                 ...     ...\n",
            "841       85       182    Wisata Kaliurang     4.4\n",
            "842       86       182    Wisata Kaliurang     4.4\n",
            "843      101       182    Wisata Kaliurang     4.4\n",
            "844      102       182    Wisata Kaliurang     4.4\n",
            "845      142       182    Wisata Kaliurang     4.4\n",
            "\n",
            "[846 rows x 4 columns]\n"
          ]
        }
      ]
    },
    {
      "cell_type": "code",
      "source": [
        "merged_df.to_csv(\"/content/drive/MyDrive/sisrek/hasil_sortir_ecoturism.csv - Sheet1.csv\")"
      ],
      "metadata": {
        "id": "T_aQZOJqVWHh"
      },
      "execution_count": null,
      "outputs": []
    },
    {
      "cell_type": "code",
      "source": [
        "import pandas as pd\n",
        "\n",
        "#Memanggil file CSV dari google drive\n",
        "df_dataset_ecoturism = pd.read_csv(\"/content/drive/MyDrive/sisrek/hasil_sortir_ecoturism.csv - Sheet1.csv\")\n",
        "\n",
        "#Menampilkan dataframe hasil memanggil file csv\n",
        "print(df_dataset_ecoturism)"
      ],
      "metadata": {
        "colab": {
          "base_uri": "https://localhost:8080/"
        },
        "id": "vI_ene2HWFPK",
        "outputId": "1832a5b6-a713-4ef1-eb02-9aff2b7e65d7"
      },
      "execution_count": null,
      "outputs": [
        {
          "output_type": "stream",
          "name": "stdout",
          "text": [
            "     Unnamed: 0  user_id  place_id          place_name  rating\n",
            "0             0       46         2  Desa Wisata Munduk     4.5\n",
            "1             1       75         2  Desa Wisata Munduk     4.5\n",
            "2             2       79         2  Desa Wisata Munduk     4.5\n",
            "3             3       94         2  Desa Wisata Munduk     4.5\n",
            "4             4      137         2  Desa Wisata Munduk     4.5\n",
            "..          ...      ...       ...                 ...     ...\n",
            "841         841       85       182    Wisata Kaliurang     4.4\n",
            "842         842       86       182    Wisata Kaliurang     4.4\n",
            "843         843      101       182    Wisata Kaliurang     4.4\n",
            "844         844      102       182    Wisata Kaliurang     4.4\n",
            "845         845      142       182    Wisata Kaliurang     4.4\n",
            "\n",
            "[846 rows x 5 columns]\n"
          ]
        }
      ]
    },
    {
      "cell_type": "code",
      "source": [
        "df_dataset_ecoturism[df_dataset_ecoturism['place_name'] == 'Wisata Kaliurang' ].count()"
      ],
      "metadata": {
        "colab": {
          "base_uri": "https://localhost:8080/"
        },
        "id": "jIwmTPxBXO9o",
        "outputId": "00c260a8-1322-4142-84f5-5995bcc608ff"
      },
      "execution_count": null,
      "outputs": [
        {
          "output_type": "execute_result",
          "data": {
            "text/plain": [
              "Unnamed: 0    6\n",
              "user_id       6\n",
              "place_id      6\n",
              "place_name    6\n",
              "rating        6\n",
              "dtype: int64"
            ]
          },
          "metadata": {},
          "execution_count": 7
        }
      ]
    },
    {
      "cell_type": "code",
      "source": [
        "df_dataset_ecoturism[df_dataset_ecoturism['place_name'] == 'Kawah Ijen' ].count()"
      ],
      "metadata": {
        "colab": {
          "base_uri": "https://localhost:8080/"
        },
        "id": "gRT1PgOKXoB6",
        "outputId": "910b1010-5951-4a90-e6fc-7c4beffeb829"
      },
      "execution_count": null,
      "outputs": [
        {
          "output_type": "execute_result",
          "data": {
            "text/plain": [
              "Unnamed: 0    8\n",
              "user_id       8\n",
              "place_id      8\n",
              "place_name    8\n",
              "rating        8\n",
              "dtype: int64"
            ]
          },
          "metadata": {},
          "execution_count": 8
        }
      ]
    },
    {
      "cell_type": "code",
      "source": [
        "df_dataset_ecoturism[df_dataset_ecoturism['place_name'] == 'Taman Nasional Kerinci Seblat' ].count()"
      ],
      "metadata": {
        "colab": {
          "base_uri": "https://localhost:8080/"
        },
        "id": "eLQsGs4kYDBl",
        "outputId": "d4b14356-bbf9-4dcf-9b7c-230d66ce1621"
      },
      "execution_count": null,
      "outputs": [
        {
          "output_type": "execute_result",
          "data": {
            "text/plain": [
              "Unnamed: 0    9\n",
              "user_id       9\n",
              "place_id      9\n",
              "place_name    9\n",
              "rating        9\n",
              "dtype: int64"
            ]
          },
          "metadata": {},
          "execution_count": 9
        }
      ]
    },
    {
      "cell_type": "code",
      "source": [
        "#Menampilkan dataframe khusus kolom place_name\n",
        "print(df_dataset_ecoturism.place_name.nunique())"
      ],
      "metadata": {
        "colab": {
          "base_uri": "https://localhost:8080/"
        },
        "id": "pd2sOg3cYrp1",
        "outputId": "8016b7ef-f3ef-447f-c54e-b830c5081c93"
      },
      "execution_count": null,
      "outputs": [
        {
          "output_type": "stream",
          "name": "stdout",
          "text": [
            "181\n"
          ]
        }
      ]
    },
    {
      "cell_type": "code",
      "source": [
        "#Instal Library Surprise\n",
        "!pip install surprise"
      ],
      "metadata": {
        "colab": {
          "base_uri": "https://localhost:8080/"
        },
        "id": "dW3rJn4OY1Wo",
        "outputId": "1123381b-54cc-4346-92c4-82c290e0e3c3"
      },
      "execution_count": null,
      "outputs": [
        {
          "output_type": "stream",
          "name": "stdout",
          "text": [
            "Collecting surprise\n",
            "  Downloading surprise-0.1-py2.py3-none-any.whl (1.8 kB)\n",
            "Collecting scikit-surprise (from surprise)\n",
            "  Downloading scikit-surprise-1.1.3.tar.gz (771 kB)\n",
            "\u001b[2K     \u001b[90m━━━━━━━━━━━━━━━━━━━━━━━━━━━━━━━━━━━━━━━━\u001b[0m \u001b[32m772.0/772.0 kB\u001b[0m \u001b[31m8.7 MB/s\u001b[0m eta \u001b[36m0:00:00\u001b[0m\n",
            "\u001b[?25h  Preparing metadata (setup.py) ... \u001b[?25l\u001b[?25hdone\n",
            "Requirement already satisfied: joblib>=1.0.0 in /usr/local/lib/python3.10/dist-packages (from scikit-surprise->surprise) (1.3.2)\n",
            "Requirement already satisfied: numpy>=1.17.3 in /usr/local/lib/python3.10/dist-packages (from scikit-surprise->surprise) (1.23.5)\n",
            "Requirement already satisfied: scipy>=1.3.2 in /usr/local/lib/python3.10/dist-packages (from scikit-surprise->surprise) (1.11.4)\n",
            "Building wheels for collected packages: scikit-surprise\n",
            "  Building wheel for scikit-surprise (setup.py) ... \u001b[?25l\u001b[?25hdone\n",
            "  Created wheel for scikit-surprise: filename=scikit_surprise-1.1.3-cp310-cp310-linux_x86_64.whl size=3163706 sha256=436389e5a339fb3420f9b2cb916d9ac3d2709beb05b7de0752c80c4d75e0f529\n",
            "  Stored in directory: /root/.cache/pip/wheels/a5/ca/a8/4e28def53797fdc4363ca4af740db15a9c2f1595ebc51fb445\n",
            "Successfully built scikit-surprise\n",
            "Installing collected packages: scikit-surprise, surprise\n",
            "Successfully installed scikit-surprise-1.1.3 surprise-0.1\n"
          ]
        }
      ]
    },
    {
      "cell_type": "code",
      "source": [
        "#Import Library\n",
        "from surprise import Reader, Dataset, SVD\n",
        "from surprise.model_selection import cross_validate\n",
        "\n",
        "#Memilih kolom 'userId', 'original_title', dan 'rating' dari dataframe df yang telah tersedia\n",
        "kolomnya = df_dataset_ecoturism[['user_id', 'place_name', 'rating']]\n",
        "\n",
        "#Membuat objek dari kolom yang telah dipilih menggunakan library Surprise\n",
        "data = Dataset.load_from_df(kolomnya, Reader())\n",
        "\n",
        "#Membangun trainset dari data yang telah dibuat\n",
        "trainset = data.build_full_trainset()\n",
        "\n",
        "#Membuat model SVD (Singular Value Decomposition) dari library Surprise\n",
        "model = SVD ()\n",
        "\n",
        "#Melatih model menggunakan trainset yang telah dibangun sebelumnya\n",
        "model.fit(trainset)\n",
        "\n",
        "#Menampilkan lima baris teratas pada dataset\n",
        "print(kolomnya)"
      ],
      "metadata": {
        "colab": {
          "base_uri": "https://localhost:8080/"
        },
        "id": "FlgCAtQ1Y4nh",
        "outputId": "dca54738-7443-4472-fa02-a94a92dfc9d7"
      },
      "execution_count": null,
      "outputs": [
        {
          "output_type": "stream",
          "name": "stdout",
          "text": [
            "     user_id          place_name  rating\n",
            "0         46  Desa Wisata Munduk     4.5\n",
            "1         75  Desa Wisata Munduk     4.5\n",
            "2         79  Desa Wisata Munduk     4.5\n",
            "3         94  Desa Wisata Munduk     4.5\n",
            "4        137  Desa Wisata Munduk     4.5\n",
            "..       ...                 ...     ...\n",
            "841       85    Wisata Kaliurang     4.4\n",
            "842       86    Wisata Kaliurang     4.4\n",
            "843      101    Wisata Kaliurang     4.4\n",
            "844      102    Wisata Kaliurang     4.4\n",
            "845      142    Wisata Kaliurang     4.4\n",
            "\n",
            "[846 rows x 3 columns]\n"
          ]
        }
      ]
    },
    {
      "cell_type": "code",
      "source": [
        "# perkiraan peringkat untuk pengguna dengan id 94 pada tempat wisata kaliurang\n",
        "prediction = model.predict(94, \"Desa Wisata Munduk\")\n",
        "\n",
        "# Menampilkan hasil prediksi\n",
        "print(\"Prediksi peringkat:\", prediction.est)"
      ],
      "metadata": {
        "colab": {
          "base_uri": "https://localhost:8080/"
        },
        "id": "vxFPreYIZUsW",
        "outputId": "55a8c536-2b61-484c-c7c5-6d791da8b1a4"
      },
      "execution_count": null,
      "outputs": [
        {
          "output_type": "stream",
          "name": "stdout",
          "text": [
            "Prediksi peringkat: 4.461796273861227\n"
          ]
        }
      ]
    },
    {
      "cell_type": "code",
      "source": [
        "#Memilih userId = 50\n",
        "user_id = 50\n",
        "\n",
        "#semuawisata\n",
        "semuawisata = kolomnya.place_name.unique()\n",
        "\n",
        "#Menampilkan data semua wisata\n",
        "print(semuawisata)"
      ],
      "metadata": {
        "colab": {
          "base_uri": "https://localhost:8080/"
        },
        "id": "qSAbCQ1FaGxD",
        "outputId": "7b0d887b-1ada-4622-e14f-1c7e906ca642"
      },
      "execution_count": null,
      "outputs": [
        {
          "output_type": "stream",
          "name": "stdout",
          "text": [
            "['Desa Wisata Munduk' 'Desa Wisata Penglipuran'\n",
            " 'Taman Nasional Bali Barat' 'Bukit Jamur' 'Bukit Moko' 'Curug Bugbrug'\n",
            " 'Curug Cilengkrang' 'Curug Cimahi' 'Curug Cipanas'\n",
            " 'Curug Luhur Waterfall' 'Curug Malela' 'Curug Tilu Leuwi Opat'\n",
            " 'Desa Wisata Kampung Cai Ranca Upas' 'Dusun Bambu' 'Gua Pawon'\n",
            " 'Gunung Lalakon' 'Gunung Manglayang' 'Happyfarm Ciwidey' 'Jendela Alam '\n",
            " 'Kawah Putih' 'Kawah Rengganis Cibuni' 'Kebun Binatang Bandung'\n",
            " 'Kebun Tanaman Obat Sari Alam' 'Orchid Forest Cikole'\n",
            " 'Perkebunan Teh Malabar' 'Sanghyang Heuleut' 'Saung Angklung Mang Udjo'\n",
            " 'Selasar Sunaryo Art Space' 'Sendang Geulis Kahuripan' 'Situ Cileunca'\n",
            " 'Stone Garden Citatah' 'Sungai Palayangan' 'Taman Begonia'\n",
            " 'Taman Bunga Cihideung' 'Taman Hutan Raya Ir. H. Djuanda'\n",
            " 'Taman Kupu-Kupu Cihanjuang' 'Taman Wisata Alam Cikole'\n",
            " 'Taman Wisata Alam Ranca Upas' 'Tebing Karaton'\n",
            " 'Taman Nasional Ujung Kulon' 'Desa Wisata Mangunan' 'Kawah Ijen'\n",
            " 'Desa Wisata Cinangneng' 'Kebun Raya Bogor' 'Taman Wisata Alam Cibodas'\n",
            " 'Taman Wisata Alam Ciloto' 'Taman Wisata Alam Gunung Geulis'\n",
            " 'Taman Wisata Alam Gunung Pancar' 'Taman Wisata Alam Riung Gunung'\n",
            " 'Taman Wisata Alam Kampoeng Air Kragilan' 'Taman Hutan Raya Ngurah Rai'\n",
            " 'Taman Nasional Kelimutu' 'Gunung Papandayan' 'Desa Wisata Nglanggeran'\n",
            " 'Bumi Perkemahan Cibubur' 'Margasatwa Muara Angke' 'Pantai Ancol'\n",
            " 'Pulau Bidadari' 'Pulau Pari' 'Pulau Pelangi' 'Pulau Pramuka'\n",
            " 'Pulau Semak Daun' 'Pulau Tidung' 'Setu Babakan'\n",
            " 'Taman Agrowisata Cilangkap' 'Wisata Alam Mangrove Angke'\n",
            " 'Taman Nasional Berbak' 'Taman Nasional Bukit Duabelas'\n",
            " 'Taman Nasional Bukit Tigapuluh' 'Taman Nasional Meru Betiri'\n",
            " 'Taman Nasional Karimunjawa' 'Taman Nasional Betung Kerihun'\n",
            " 'Taman Nasional Tanjung Puting' 'Taman Wisata Alam Kubu Raya'\n",
            " 'Desa Wisata Nglinggo' 'Hutan Mangrove Kulon Progo'\n",
            " 'Taman Hutan Raya Bukit Soeharto' 'Taman Nasional Bukit Barisan Selatan'\n",
            " 'Taman Nasional Way Kambas' 'Desa Wisata Lembah Harau'\n",
            " 'Taman Nasional Gunung Rinjani' 'Desa Wisata Sade'\n",
            " 'Taman Nasional Gunung Merbabu' 'Desa Wisata Jodipan'\n",
            " 'Desa Wisata Ngadas' 'Taman Hutan Raya R. Soerjo'\n",
            " 'Taman Nasional Bromo Tengger Semeru'\n",
            " 'Taman Wisata Alam Puncak Banyu Biru' 'Pulau Kanawa'\n",
            " 'Taman Nasional Komodo' 'Pantai Klayar' 'Taman Hutan Raya Bung Hatta'\n",
            " 'Taman Wisata Alam Punti Kayu' 'Taman Nasional Teluk Cendrawasih'\n",
            " 'Taman Hutan Raya Sultan Syarif Hasyim' 'Taman Nasional Tesso Nilo'\n",
            " 'Taman Hutan Raya Wan Abdul Rachman' 'Taman Wisata Alam Hutan Albasia'\n",
            " 'Taman Buru Gunung Masigit Kareumbi' 'Taman Nasional Kutai'\n",
            " 'Air Terjun Kali Pancur' 'Air Terjun Semirang' 'Brown Canyon'\n",
            " 'Candi Gedong Songo' 'Danau Rawa Pening' 'Desa Wisata Lembah Kalipancur'\n",
            " 'Durian Gardens and Tourism Education Watu Simbar' 'Goa Rong'\n",
            " 'Hutan Wisata Tinjomoyo Semarang' 'Kampoeng Kopi Banaran' 'Kampoeng Rawa'\n",
            " 'Obyek Wisata Goa Kreo' 'Waduk Jatibarang Mijen' 'Watu Gunung Ungaran'\n",
            " 'Wisata Alam Wana Wisata Penggaron' 'Wisata Lereng Kelir'\n",
            " 'Wisata Mangrove Tapak' 'Taman Nasional Baluran' 'Desa Wisata Kinahrejo'\n",
            " 'Taman Nasional Kerinci Seblat' 'Taman Wisata Tirta Alam'\n",
            " 'Taman Wisata Alam Curug Cipendok' 'Taman Wisata Alam Situgunung'\n",
            " 'Danau Toba' 'Ekowisata Mangrove Wonorejo' 'Kebun Bibit Wonorejo'\n",
            " 'Taman Flora Bratang Surabaya' 'Taman Wisata Alam Telaga Menjer'\n",
            " 'Air Terjun Kedung Pedut' 'Air Terjun Sri Gethuk' 'Blue Lagoon Jogja'\n",
            " 'Bukit Lintang Sewu' 'Bukit Panguk Kediwung' 'Bukit Wisata Pulepayung'\n",
            " 'Bunker Kaliadem Merapi' 'Desa Wisata Kalibiru' 'Desa Wisata Kelor'\n",
            " 'Desa Wisata Pulesari ' 'Desa Wisata Sungai Code Jogja Kota' 'Goa Cerme'\n",
            " 'Goa Jomblang' 'Goa Pindul ' 'Goa Rancang Kencono'\n",
            " 'Grojogan Watu Purbo Bangunrejo' 'Hutan Pinus Pengger' 'Jogja Exotarium'\n",
            " 'Jurang Tembelan Kanigoro' 'Lava Bantal' 'Ledok Sambi'\n",
            " 'Museum Ullen Sentalu' 'Pantai Baron' 'Pantai Drini' 'Pantai Goa Cemara'\n",
            " 'Pantai Greweng' 'Pantai Indrayanti ' 'Pantai Jogan' 'Pantai Jungwok'\n",
            " 'Pantai Kesirat' 'Pantai Krakal' 'Pantai Nglambor' 'Pantai Ngrenehan'\n",
            " 'Pantai Nguluran' 'Pantai Parangtritis' 'Pantai Patihan'\n",
            " 'Pantai Sadranan' 'Pantai Samas ' 'Pantai Sedahan' 'Pantai Siung'\n",
            " 'Pantai Timang' 'Pantai Watu Kodok' 'Pantai Wediombo'\n",
            " 'Puncak Gunung Api Purba - Nglanggeran' 'Puncak Kebun Buah Mangunan'\n",
            " 'Puncak Pinus Becici' 'Seribu Batu Songgo Langit'\n",
            " 'Sindu Kusuma Edupark (SKE)' 'Studio Alam Gamplong' 'Watu Goyang'\n",
            " 'Watu Lumbung' 'Wisata Alam Kalibiru' 'Wisata Kaliurang']\n"
          ]
        }
      ]
    },
    {
      "cell_type": "code",
      "source": [
        "#Mengecek wisata yang sudah dirating user_id 50\n",
        "terrating = kolomnya[kolomnya.user_id==user_id].place_name\n",
        "\n",
        "#Menampilkan data wisata yang sudah dirating oleh user_id 50\n",
        "print(terrating)"
      ],
      "metadata": {
        "colab": {
          "base_uri": "https://localhost:8080/"
        },
        "id": "ZltY8nsRa5MH",
        "outputId": "0ee5a8e2-e502-4249-967b-56184c2b9812"
      },
      "execution_count": null,
      "outputs": [
        {
          "output_type": "stream",
          "name": "stdout",
          "text": [
            "121             Orchid Forest Cikole\n",
            "348       Taman Nasional Meru Betiri\n",
            "516    Desa Wisata Lembah Kalipancur\n",
            "607             Kebun Bibit Wonorejo\n",
            "Name: place_name, dtype: object\n"
          ]
        }
      ]
    },
    {
      "cell_type": "code",
      "source": [
        "# wisata yang belum dirating user 50\n",
        "belumrating = [wisata for wisata in semuawisata if wisata not in terrating]\n",
        "\n",
        "#Menampilkan data wisata yag belum dirating oleh user\n",
        "print(belumrating)"
      ],
      "metadata": {
        "colab": {
          "base_uri": "https://localhost:8080/"
        },
        "id": "Q2dkj7lUbZ-F",
        "outputId": "2df23677-a154-492c-a394-531e17caa558"
      },
      "execution_count": null,
      "outputs": [
        {
          "output_type": "stream",
          "name": "stdout",
          "text": [
            "['Desa Wisata Munduk', 'Desa Wisata Penglipuran', 'Taman Nasional Bali Barat', 'Bukit Jamur', 'Bukit Moko', 'Curug Bugbrug', 'Curug Cilengkrang', 'Curug Cimahi', 'Curug Cipanas', 'Curug Luhur Waterfall', 'Curug Malela', 'Curug Tilu Leuwi Opat', 'Desa Wisata Kampung Cai Ranca Upas', 'Dusun Bambu', 'Gua Pawon', 'Gunung Lalakon', 'Gunung Manglayang', 'Happyfarm Ciwidey', 'Jendela Alam ', 'Kawah Putih', 'Kawah Rengganis Cibuni', 'Kebun Binatang Bandung', 'Kebun Tanaman Obat Sari Alam', 'Orchid Forest Cikole', 'Perkebunan Teh Malabar', 'Sanghyang Heuleut', 'Saung Angklung Mang Udjo', 'Selasar Sunaryo Art Space', 'Sendang Geulis Kahuripan', 'Situ Cileunca', 'Stone Garden Citatah', 'Sungai Palayangan', 'Taman Begonia', 'Taman Bunga Cihideung', 'Taman Hutan Raya Ir. H. Djuanda', 'Taman Kupu-Kupu Cihanjuang', 'Taman Wisata Alam Cikole', 'Taman Wisata Alam Ranca Upas', 'Tebing Karaton', 'Taman Nasional Ujung Kulon', 'Desa Wisata Mangunan', 'Kawah Ijen', 'Desa Wisata Cinangneng', 'Kebun Raya Bogor', 'Taman Wisata Alam Cibodas', 'Taman Wisata Alam Ciloto', 'Taman Wisata Alam Gunung Geulis', 'Taman Wisata Alam Gunung Pancar', 'Taman Wisata Alam Riung Gunung', 'Taman Wisata Alam Kampoeng Air Kragilan', 'Taman Hutan Raya Ngurah Rai', 'Taman Nasional Kelimutu', 'Gunung Papandayan', 'Desa Wisata Nglanggeran', 'Bumi Perkemahan Cibubur', 'Margasatwa Muara Angke', 'Pantai Ancol', 'Pulau Bidadari', 'Pulau Pari', 'Pulau Pelangi', 'Pulau Pramuka', 'Pulau Semak Daun', 'Pulau Tidung', 'Setu Babakan', 'Taman Agrowisata Cilangkap', 'Wisata Alam Mangrove Angke', 'Taman Nasional Berbak', 'Taman Nasional Bukit Duabelas', 'Taman Nasional Bukit Tigapuluh', 'Taman Nasional Meru Betiri', 'Taman Nasional Karimunjawa', 'Taman Nasional Betung Kerihun', 'Taman Nasional Tanjung Puting', 'Taman Wisata Alam Kubu Raya', 'Desa Wisata Nglinggo', 'Hutan Mangrove Kulon Progo', 'Taman Hutan Raya Bukit Soeharto', 'Taman Nasional Bukit Barisan Selatan', 'Taman Nasional Way Kambas', 'Desa Wisata Lembah Harau', 'Taman Nasional Gunung Rinjani', 'Desa Wisata Sade', 'Taman Nasional Gunung Merbabu', 'Desa Wisata Jodipan', 'Desa Wisata Ngadas', 'Taman Hutan Raya R. Soerjo', 'Taman Nasional Bromo Tengger Semeru', 'Taman Wisata Alam Puncak Banyu Biru', 'Pulau Kanawa', 'Taman Nasional Komodo', 'Pantai Klayar', 'Taman Hutan Raya Bung Hatta', 'Taman Wisata Alam Punti Kayu', 'Taman Nasional Teluk Cendrawasih', 'Taman Hutan Raya Sultan Syarif Hasyim', 'Taman Nasional Tesso Nilo', 'Taman Hutan Raya Wan Abdul Rachman', 'Taman Wisata Alam Hutan Albasia', 'Taman Buru Gunung Masigit Kareumbi', 'Taman Nasional Kutai', 'Air Terjun Kali Pancur', 'Air Terjun Semirang', 'Brown Canyon', 'Candi Gedong Songo', 'Danau Rawa Pening', 'Desa Wisata Lembah Kalipancur', 'Durian Gardens and Tourism Education Watu Simbar', 'Goa Rong', 'Hutan Wisata Tinjomoyo Semarang', 'Kampoeng Kopi Banaran', 'Kampoeng Rawa', 'Obyek Wisata Goa Kreo', 'Waduk Jatibarang Mijen', 'Watu Gunung Ungaran', 'Wisata Alam Wana Wisata Penggaron', 'Wisata Lereng Kelir', 'Wisata Mangrove Tapak', 'Taman Nasional Baluran', 'Desa Wisata Kinahrejo', 'Taman Nasional Kerinci Seblat', 'Taman Wisata Tirta Alam', 'Taman Wisata Alam Curug Cipendok', 'Taman Wisata Alam Situgunung', 'Danau Toba', 'Ekowisata Mangrove Wonorejo', 'Kebun Bibit Wonorejo', 'Taman Flora Bratang Surabaya', 'Taman Wisata Alam Telaga Menjer', 'Air Terjun Kedung Pedut', 'Air Terjun Sri Gethuk', 'Blue Lagoon Jogja', 'Bukit Lintang Sewu', 'Bukit Panguk Kediwung', 'Bukit Wisata Pulepayung', 'Bunker Kaliadem Merapi', 'Desa Wisata Kalibiru', 'Desa Wisata Kelor', 'Desa Wisata Pulesari ', 'Desa Wisata Sungai Code Jogja Kota', 'Goa Cerme', 'Goa Jomblang', 'Goa Pindul ', 'Goa Rancang Kencono', 'Grojogan Watu Purbo Bangunrejo', 'Hutan Pinus Pengger', 'Jogja Exotarium', 'Jurang Tembelan Kanigoro', 'Lava Bantal', 'Ledok Sambi', 'Museum Ullen Sentalu', 'Pantai Baron', 'Pantai Drini', 'Pantai Goa Cemara', 'Pantai Greweng', 'Pantai Indrayanti ', 'Pantai Jogan', 'Pantai Jungwok', 'Pantai Kesirat', 'Pantai Krakal', 'Pantai Nglambor', 'Pantai Ngrenehan', 'Pantai Nguluran', 'Pantai Parangtritis', 'Pantai Patihan', 'Pantai Sadranan', 'Pantai Samas ', 'Pantai Sedahan', 'Pantai Siung', 'Pantai Timang', 'Pantai Watu Kodok', 'Pantai Wediombo', 'Puncak Gunung Api Purba - Nglanggeran', 'Puncak Kebun Buah Mangunan', 'Puncak Pinus Becici', 'Seribu Batu Songgo Langit', 'Sindu Kusuma Edupark (SKE)', 'Studio Alam Gamplong', 'Watu Goyang', 'Watu Lumbung', 'Wisata Alam Kalibiru', 'Wisata Kaliurang']\n"
          ]
        }
      ]
    },
    {
      "cell_type": "code",
      "source": [
        "#lihat skor prediksi untuk wisata yang belum di rating user 50\n",
        "skor = [model.predict(user_id,wisata).est for wisata in belumrating]\n",
        "\n",
        "#Menampilkan data skor rekomendasi wisata user\n",
        "print(skor)"
      ],
      "metadata": {
        "colab": {
          "base_uri": "https://localhost:8080/"
        },
        "id": "ypMEFOnydPGJ",
        "outputId": "f95ce799-3887-4de3-9794-3437173a4566"
      },
      "execution_count": null,
      "outputs": [
        {
          "output_type": "stream",
          "name": "stdout",
          "text": [
            "[4.537210879983737, 4.425689345363214, 4.452937338977757, 4.303372147472609, 4.373487556249681, 4.380202303816599, 4.3023513587356135, 4.132893316033203, 4.239968367835306, 4.308469671412663, 4.434897588973001, 4.312328055854861, 4.5939458905445845, 4.429278771962756, 4.685171096474309, 4.463937709570674, 4.359424234534334, 4.36519533940996, 4.3748239165380545, 4.464826827953129, 4.268402145567705, 4.282798140959756, 4.47548477838646, 4.530269499938398, 4.663114849200693, 4.443134079377279, 4.43173016452316, 4.475398077930069, 4.263358242120563, 4.717291473945739, 4.67271383174429, 4.633394211594748, 4.298150743686315, 4.188831106156515, 4.392838634867941, 4.336648894277066, 4.422834511595044, 4.45590099987102, 4.3351532087760605, 4.341651740534105, 4.596563193046293, 4.5727410681168585, 4.327075798613945, 4.451692326238256, 4.576586110808514, 4.625340103638273, 4.116343519708186, 4.231644737307434, 4.416952726817152, 4.206370283020345, 4.259172747236559, 4.336219772671651, 4.526521559857638, 4.485944110724758, 4.586143070307254, 4.353930758187758, 4.472947813584939, 4.44265833563126, 4.396448164038401, 4.516723008814286, 4.2290591669637845, 4.167443620417088, 4.388173635783782, 4.444265497861266, 4.374059786349179, 4.404000987185456, 4.3840043549547865, 4.359306336011869, 4.347732421349324, 4.55374604850885, 4.503262189084049, 4.226413350473661, 4.4551661806123635, 4.439410949804514, 4.493434023812559, 4.410820321067717, 4.3941398226526225, 4.248919144215251, 4.426969556843041, 4.316537807334521, 4.528308173962128, 4.4161299670708765, 4.428291658867817, 4.277146312346247, 4.4555970737108375, 4.51030951765944, 4.4525723087629725, 4.516244925340899, 4.50163193426304, 4.5293436261630955, 4.522351062656145, 4.286332537850942, 4.397759147714986, 4.429394379380316, 4.426156659543154, 4.430939505161718, 4.287912929549031, 4.282515448473013, 4.343716507110669, 4.47248812298463, 4.563019215011565, 4.460035801027869, 4.416077577902472, 4.442982379441792, 4.290279504954255, 4.154237423897589, 4.49878283127372, 4.4215174467342315, 4.3912582297727, 4.302089296798332, 4.407685679910288, 4.483000567641696, 4.350437274670486, 4.31754437898734, 4.4411728061345705, 4.425322030514488, 4.3400788193288475, 4.580474826115954, 4.395173123674179, 4.47071656976608, 4.239347524784745, 4.36299679366892, 4.1895312477785644, 4.631771668165045, 4.371646612751449, 4.373565598968483, 4.5188800445034225, 4.6030255649121425, 4.548355610018376, 4.417512763159589, 4.3967305877836305, 4.416313856468108, 4.51576440890205, 4.602505517159635, 4.368092115287949, 4.395098355483131, 4.485754582972261, 4.3223819513187145, 4.563623270630257, 4.319897351966686, 4.349780237420954, 4.3531989350590585, 4.358411232451626, 4.534080755321305, 4.395491703207692, 4.387631110411551, 4.28136020736473, 4.517868123518407, 4.609149323701024, 4.4243528811682005, 4.37449128617347, 4.403114214731002, 4.304227130944079, 4.493764461775418, 4.573781607076028, 4.380831624236494, 4.360277256287326, 4.641790543623359, 4.37787523032538, 4.375472051982156, 4.3056904614819524, 4.205465517477983, 4.40476784737701, 4.3828603826599, 4.567065446202671, 4.219298511651077, 4.57777047546603, 4.33272058320327, 4.639526929761087, 4.3881875053810795, 4.383196162883718, 4.42838940740683, 4.356338675657519, 4.615366131619873, 4.399013963290951, 4.417332757018253, 4.538733653715011, 4.517623271986353, 4.46864517328278, 4.350680667059848, 4.289186100048323]\n"
          ]
        }
      ]
    },
    {
      "cell_type": "code",
      "source": [
        "# Lengkapi kode ini agar yang muncul berurutan dari skor prediksi tertinggi ke terendah\n",
        "skor = [(wisata, model.predict(user_id, wisata).est) for wisata in belumrating]\n",
        "\n",
        "# Mengurutkan  berdasarkan skor prediksi dari tertinggi ke terendah\n",
        "skor_urut = sorted(skor, key=lambda x: x[1], reverse=True)\n",
        "\n",
        "# Menampilkan data skor rekomendasi untuk pengguna dengan ID 263\n",
        "for wisata, nilai in skor_urut[:3]:\n",
        "    print(f\"Wisata: {wisata}, Skor Prediksi: {nilai}\")\n"
      ],
      "metadata": {
        "colab": {
          "base_uri": "https://localhost:8080/"
        },
        "id": "GNrs8ggCemyZ",
        "outputId": "7dacf08d-876f-4c5d-c9ca-94d48b8fa656"
      },
      "execution_count": null,
      "outputs": [
        {
          "output_type": "stream",
          "name": "stdout",
          "text": [
            "Wisata: Situ Cileunca, Skor Prediksi: 4.717291473945739\n",
            "Wisata: Gua Pawon, Skor Prediksi: 4.685171096474309\n",
            "Wisata: Stone Garden Citatah, Skor Prediksi: 4.67271383174429\n"
          ]
        }
      ]
    },
    {
      "cell_type": "code",
      "source": [
        "# Percobaan 1\n",
        "\n",
        "#Memilih userId = 50\n",
        "user_id = 50\n",
        "\n",
        "# Lengkapi kode ini agar wisata yang muncul berurutan dari skor prediksi tertinggi ke terendah\n",
        "skor = [(wisata, model.predict(user_id, wisata).est) for wisata in belumrating]\n",
        "\n",
        "# Mengurutkan wisata berdasarkan skor prediksi dari tertinggi ke terendah\n",
        "skor_urut = sorted(skor, key=lambda x: x[1], reverse=True)\n",
        "\n",
        "# Menampilkan data skor rekomendasi wisata untuk pengguna dengan ID 50\n",
        "for wisata, nilai in skor_urut[:3]:\n",
        "    print(f\"Wisata: {wisata}, Skor Prediksi: {nilai}\")\n"
      ],
      "metadata": {
        "colab": {
          "base_uri": "https://localhost:8080/"
        },
        "id": "5elki8Rl108r",
        "outputId": "93f07ee3-1317-4c3a-92f1-bfc9e3665de2"
      },
      "execution_count": null,
      "outputs": [
        {
          "output_type": "stream",
          "name": "stdout",
          "text": [
            "Wisata: Perkebunan Teh Malabar, Skor Prediksi: 4.799385903963697\n",
            "Wisata: Taman Nasional Meru Betiri, Skor Prediksi: 4.747953801122408\n",
            "Wisata: Gunung Lalakon, Skor Prediksi: 4.691966382478144\n"
          ]
        }
      ]
    },
    {
      "cell_type": "code",
      "source": [
        "# Percobaan 2\n",
        "\n",
        "#Memilih userId = 82\n",
        "user_id = 82\n",
        "\n",
        "# Lengkapi kode ini agar wisata yang muncul berurutan dari skor prediksi tertinggi ke terendah\n",
        "skor = [(wisata, model.predict(user_id, wisata).est) for wisata in belumrating]\n",
        "\n",
        "# Mengurutkan wisata berdasarkan skor prediksi dari tertinggi ke terendah\n",
        "skor_urut = sorted(skor, key=lambda x: x[1], reverse=True)\n",
        "\n",
        "# Menampilkan data skor rekomendasi wisata untuk pengguna dengan ID 82\n",
        "for wisata, nilai in skor_urut[:3]:\n",
        "    print(f\"Wisata: {wisata}, Skor Prediksi: {nilai}\")\n"
      ],
      "metadata": {
        "colab": {
          "base_uri": "https://localhost:8080/"
        },
        "id": "T2aNt8yUXd6w",
        "outputId": "2bf763fb-b20b-4279-facc-2d21c8b990c4"
      },
      "execution_count": null,
      "outputs": [
        {
          "output_type": "stream",
          "name": "stdout",
          "text": [
            "Wisata: Desa Wisata Penglipuran, Skor Prediksi: 4.763455536767181\n",
            "Wisata: Taman Nasional Kelimutu, Skor Prediksi: 4.713577209533043\n",
            "Wisata: Perkebunan Teh Malabar, Skor Prediksi: 4.697900102801246\n"
          ]
        }
      ]
    },
    {
      "cell_type": "code",
      "source": [
        "# Percobaan 3\n",
        "\n",
        "#Memilih userId 30 =\n",
        "user_id = 30\n",
        "\n",
        "# Lengkapi kode ini agar wisata yang muncul berurutan dari skor prediksi tertinggi ke terendah\n",
        "skor = [(wisata, model.predict(user_id, wisata).est) for wisata in belumrating]\n",
        "\n",
        "# Mengurutkan wisata berdasarkan skor prediksi dari tertinggi ke terendah\n",
        "skor_urut = sorted(skor, key=lambda x: x[1], reverse=True)\n",
        "\n",
        "# Menampilkan data skor rekomendasi wisata untuk pengguna dengan ID 30\n",
        "for wisata, nilai in skor_urut[:3]:\n",
        "    print(f\"Wisata: {wisata}, Skor Prediksi: {nilai}\")\n"
      ],
      "metadata": {
        "colab": {
          "base_uri": "https://localhost:8080/"
        },
        "id": "2qMfBFUIXikd",
        "outputId": "b118e8b5-2d41-4a1f-da9c-101b07cc490e"
      },
      "execution_count": null,
      "outputs": [
        {
          "output_type": "stream",
          "name": "stdout",
          "text": [
            "Wisata: Desa Wisata Sungai Code Jogja Kota, Skor Prediksi: 4.6994281424311675\n",
            "Wisata: Taman Nasional Tanjung Puting, Skor Prediksi: 4.6871902106115755\n",
            "Wisata: Hutan Pinus Pengger, Skor Prediksi: 4.652344521832618\n"
          ]
        }
      ]
    },
    {
      "cell_type": "code",
      "source": [
        "# Percobaan 4\n",
        "\n",
        "#Memilih userId =\n",
        "user_id = 7\n",
        "\n",
        "# Lengkapi kode ini agar wisata yang muncul berurutan dari skor prediksi tertinggi ke terendah\n",
        "skor = [(wisata, model.predict(user_id, wisata).est) for wisata in belumrating]\n",
        "\n",
        "# Mengurutkan wisata berdasarkan skor prediksi dari tertinggi ke terendah\n",
        "skor_urut = sorted(skor, key=lambda x: x[1], reverse=True)\n",
        "\n",
        "# Menampilkan data skor rekomendasi wisata untuk pengguna dengan ID 7\n",
        "for wisata, nilai in skor_urut[:3]:\n",
        "    print(f\"Wisata: {wisata}, Skor Prediksi: {nilai}\")\n"
      ],
      "metadata": {
        "colab": {
          "base_uri": "https://localhost:8080/"
        },
        "id": "oqYNqxlNYu-A",
        "outputId": "8fd63cf6-3543-4bdb-f194-023f920a16ab"
      },
      "execution_count": null,
      "outputs": [
        {
          "output_type": "stream",
          "name": "stdout",
          "text": [
            "Wisata: Perkebunan Teh Malabar, Skor Prediksi: 4.838185555884344\n",
            "Wisata: Puncak Gunung Api Purba - Nglanggeran, Skor Prediksi: 4.7224082656218185\n",
            "Wisata: Desa Wisata Penglipuran, Skor Prediksi: 4.6552240009951165\n"
          ]
        }
      ]
    },
    {
      "cell_type": "code",
      "source": [
        "# Percobaan 5\n",
        "\n",
        "#Memilih userId =\n",
        "user_id = 13\n",
        "\n",
        "# Lengkapi kode ini agar wisata yang muncul berurutan dari skor prediksi tertinggi ke terendah\n",
        "skor = [(wisata, model.predict(user_id, wisata).est) for wisata in belumrating]\n",
        "\n",
        "# Mengurutkan wisata berdasarkan skor prediksi dari tertinggi ke terendah\n",
        "skor_urut = sorted(skor, key=lambda x: x[1], reverse=True)\n",
        "\n",
        "# Menampilkan data skor rekomendasi wisata untuk pengguna dengan ID 13\n",
        "for wisata, nilai in skor_urut[:3]:\n",
        "    print(f\"Wisata: {wisata}, Skor Prediksi: {nilai}\")\n"
      ],
      "metadata": {
        "colab": {
          "base_uri": "https://localhost:8080/"
        },
        "id": "cp_18uSGY0S6",
        "outputId": "c5b4c83c-13d4-45a8-87e9-944ce69a42a3"
      },
      "execution_count": null,
      "outputs": [
        {
          "output_type": "stream",
          "name": "stdout",
          "text": [
            "Wisata: Seribu Batu Songgo Langit, Skor Prediksi: 4.757145495891447\n",
            "Wisata: Puncak Kebun Buah Mangunan, Skor Prediksi: 4.7528589631899845\n",
            "Wisata: Perkebunan Teh Malabar, Skor Prediksi: 4.716912439160539\n"
          ]
        }
      ]
    },
    {
      "cell_type": "code",
      "source": [
        "# Percobaan 6\n",
        "\n",
        "#Memilih userId =\n",
        "user_id = 44\n",
        "\n",
        "# Lengkapi kode ini agar wisata yang muncul berurutan dari skor prediksi tertinggi ke terendah\n",
        "skor = [(wisata, model.predict(user_id, wisata).est) for wisata in belumrating]\n",
        "\n",
        "# Mengurutkan wisata berdasarkan skor prediksi dari tertinggi ke terendah\n",
        "skor_urut = sorted(skor, key=lambda x: x[1], reverse=True)\n",
        "\n",
        "# Menampilkan data skor rekomendasi wisata untuk pengguna dengan ID 44\n",
        "for wisata, nilai in skor_urut[:3]:\n",
        "    print(f\"Wisata: {wisata}, Skor Prediksi: {nilai}\")\n"
      ],
      "metadata": {
        "colab": {
          "base_uri": "https://localhost:8080/"
        },
        "id": "xmokFqaPZNAs",
        "outputId": "c6cd5471-fde7-4b65-ed8c-bcbbbccc560a"
      },
      "execution_count": null,
      "outputs": [
        {
          "output_type": "stream",
          "name": "stdout",
          "text": [
            "Wisata: Taman Wisata Alam Cibodas, Skor Prediksi: 4.727434975867253\n",
            "Wisata: Taman Nasional Tanjung Puting, Skor Prediksi: 4.723502869399705\n",
            "Wisata: Taman Nasional Ujung Kulon, Skor Prediksi: 4.653615028938492\n"
          ]
        }
      ]
    },
    {
      "cell_type": "code",
      "source": [
        "# Percobaan 7\n",
        "\n",
        "#Memilih userId =\n",
        "user_id = 71\n",
        "\n",
        "# Lengkapi kode ini agar wisata yang muncul berurutan dari skor prediksi tertinggi ke terendah\n",
        "skor = [(wisata, model.predict(user_id, wisata).est) for wisata in belumrating]\n",
        "\n",
        "# Mengurutkan wisata berdasarkan skor prediksi dari tertinggi ke terendah\n",
        "skor_urut = sorted(skor, key=lambda x: x[1], reverse=True)\n",
        "\n",
        "# Menampilkan data skor rekomendasi wisata untuk pengguna dengan ID 71\n",
        "for wisata, nilai in skor_urut[:3]:\n",
        "    print(f\"Wisata: {wisata}, Skor Prediksi: {nilai}\")\n"
      ],
      "metadata": {
        "colab": {
          "base_uri": "https://localhost:8080/"
        },
        "id": "FWNQxqHbZWe8",
        "outputId": "9c2a71a4-59a4-4372-c865-63e94a23df54"
      },
      "execution_count": null,
      "outputs": [
        {
          "output_type": "stream",
          "name": "stdout",
          "text": [
            "Wisata: Puncak Gunung Api Purba - Nglanggeran, Skor Prediksi: 4.671564065525507\n",
            "Wisata: Sungai Palayangan, Skor Prediksi: 4.657544307249784\n",
            "Wisata: Perkebunan Teh Malabar, Skor Prediksi: 4.656637832024165\n"
          ]
        }
      ]
    },
    {
      "cell_type": "code",
      "source": [
        "# Percobaan 8\n",
        "\n",
        "#Memilih userId =\n",
        "user_id = 86\n",
        "\n",
        "# Lengkapi kode ini agar wisata yang muncul berurutan dari skor prediksi tertinggi ke terendah\n",
        "skor = [(wisata, model.predict(user_id, wisata).est) for wisata in belumrating]\n",
        "\n",
        "# Mengurutkan wisata berdasarkan skor prediksi dari tertinggi ke terendah\n",
        "skor_urut = sorted(skor, key=lambda x: x[1], reverse=True)\n",
        "\n",
        "# Menampilkan data skor rekomendasi wisata untuk pengguna dengan ID 86\n",
        "for wisata, nilai in skor_urut[:3]:\n",
        "    print(f\"Wisata: {wisata}, Skor Prediksi: {nilai}\")\n"
      ],
      "metadata": {
        "colab": {
          "base_uri": "https://localhost:8080/"
        },
        "id": "Cn_UYDD5Zhl5",
        "outputId": "39ceb730-edd2-4a24-c04f-200f572c1e8a"
      },
      "execution_count": null,
      "outputs": [
        {
          "output_type": "stream",
          "name": "stdout",
          "text": [
            "Wisata: Taman Nasional Karimunjawa, Skor Prediksi: 4.696507667841595\n",
            "Wisata: Taman Nasional Kelimutu, Skor Prediksi: 4.692723433043908\n",
            "Wisata: Taman Nasional Tanjung Puting, Skor Prediksi: 4.690306067833259\n"
          ]
        }
      ]
    },
    {
      "cell_type": "code",
      "source": [
        "# Percobaan 9\n",
        "\n",
        "#Memilih userId =\n",
        "user_id = 4\n",
        "\n",
        "# Lengkapi kode ini agar wisata yang muncul berurutan dari skor prediksi tertinggi ke terendah\n",
        "skor = [(wisata, model.predict(user_id, wisata).est) for wisata in belumrating]\n",
        "\n",
        "# Mengurutkan wisata berdasarkan skor prediksi dari tertinggi ke terendah\n",
        "skor_urut = sorted(skor, key=lambda x: x[1], reverse=True)\n",
        "\n",
        "# Menampilkan data skor rekomendasi wisata untuk pengguna dengan ID 4\n",
        "for wisata, nilai in skor_urut[:3]:\n",
        "    print(f\"Wisata: {wisata}, Skor Prediksi: {nilai}\")\n"
      ],
      "metadata": {
        "colab": {
          "base_uri": "https://localhost:8080/"
        },
        "id": "nRzxhyynZtT8",
        "outputId": "35a7f75f-b7af-4e5d-d382-eac4b571b559"
      },
      "execution_count": null,
      "outputs": [
        {
          "output_type": "stream",
          "name": "stdout",
          "text": [
            "Wisata: Taman Nasional Kerinci Seblat, Skor Prediksi: 4.7634738126334035\n",
            "Wisata: Museum Ullen Sentalu, Skor Prediksi: 4.6897778177639715\n",
            "Wisata: Perkebunan Teh Malabar, Skor Prediksi: 4.652564008490996\n"
          ]
        }
      ]
    },
    {
      "cell_type": "code",
      "source": [
        "# Percobaan 10\n",
        "\n",
        "#Memilih userId =\n",
        "user_id = 18\n",
        "\n",
        "# Lengkapi kode ini agar wisata yang muncul berurutan dari skor prediksi tertinggi ke terendah\n",
        "skor = [(wisata, model.predict(user_id, wisata).est) for wisata in belumrating]\n",
        "\n",
        "# Mengurutkan wisata berdasarkan skor prediksi dari tertinggi ke terendah\n",
        "skor_urut = sorted(skor, key=lambda x: x[1], reverse=True)\n",
        "\n",
        "# Menampilkan data skor rekomendasi wisata untuk pengguna dengan ID 18\n",
        "for wisata, nilai in skor_urut[:3]:\n",
        "    print(f\"Wisata: {wisata}, Skor Prediksi: {nilai}\")\n"
      ],
      "metadata": {
        "colab": {
          "base_uri": "https://localhost:8080/"
        },
        "id": "0d3ifZzyZ4p9",
        "outputId": "3cbca1a7-208b-4a0d-dd95-c6338dc48b5b"
      },
      "execution_count": null,
      "outputs": [
        {
          "output_type": "stream",
          "name": "stdout",
          "text": [
            "Wisata: Situ Cileunca, Skor Prediksi: 4.717291473945739\n",
            "Wisata: Gua Pawon, Skor Prediksi: 4.685171096474309\n",
            "Wisata: Stone Garden Citatah, Skor Prediksi: 4.67271383174429\n"
          ]
        }
      ]
    },
    {
      "cell_type": "code",
      "source": [
        "# Percobaan 11\n",
        "\n",
        "#Memilih userId 43 =\n",
        "user_id = 43\n",
        "\n",
        "# Lengkapi kode ini agar wisata yang muncul berurutan dari skor prediksi tertinggi ke terendah\n",
        "skor = [(wisata, model.predict(user_id, wisata).est) for wisata in belumrating]\n",
        "\n",
        "# Mengurutkan wisata berdasarkan skor prediksi dari tertinggi ke terendah\n",
        "skor_urut = sorted(skor, key=lambda x: x[1], reverse=True)\n",
        "\n",
        "# Menampilkan data skor rekomendasi wisata untuk pengguna dengan ID 30\n",
        "for wisata, nilai in skor_urut[:3]:\n",
        "    print(f\"Wisata: {wisata}, Skor Prediksi: {nilai}\")\n"
      ],
      "metadata": {
        "colab": {
          "base_uri": "https://localhost:8080/"
        },
        "id": "JQqHKKNdcdwR",
        "outputId": "1f198e17-e93f-46cc-bbab-795a79638801"
      },
      "execution_count": null,
      "outputs": [
        {
          "output_type": "stream",
          "name": "stdout",
          "text": [
            "Wisata: Desa Wisata Penglipuran, Skor Prediksi: 4.8064198330005805\n",
            "Wisata: Perkebunan Teh Malabar, Skor Prediksi: 4.766664295867449\n",
            "Wisata: Candi Gedong Songo, Skor Prediksi: 4.720969490916274\n"
          ]
        }
      ]
    },
    {
      "cell_type": "code",
      "source": [
        "# Percobaan 12\n",
        "\n",
        "#Memilih userId 75 =\n",
        "user_id = 75\n",
        "\n",
        "# Lengkapi kode ini agar wisata yang muncul berurutan dari skor prediksi tertinggi ke terendah\n",
        "skor = [(wisata, model.predict(user_id, wisata).est) for wisata in belumrating]\n",
        "\n",
        "# Mengurutkan wisata berdasarkan skor prediksi dari tertinggi ke terendah\n",
        "skor_urut = sorted(skor, key=lambda x: x[1], reverse=True)\n",
        "\n",
        "# Menampilkan data skor rekomendasi wisata untuk pengguna dengan ID 30\n",
        "for wisata, nilai in skor_urut[:3]:\n",
        "    print(f\"Wisata: {wisata}, Skor Prediksi: {nilai}\")\n"
      ],
      "metadata": {
        "colab": {
          "base_uri": "https://localhost:8080/"
        },
        "id": "WPQ4MicQcjWq",
        "outputId": "5102bd55-13f1-4ee3-e74a-f199ad9fb459"
      },
      "execution_count": null,
      "outputs": [
        {
          "output_type": "stream",
          "name": "stdout",
          "text": [
            "Wisata: Perkebunan Teh Malabar, Skor Prediksi: 4.800875112026749\n",
            "Wisata: Taman Flora Bratang Surabaya, Skor Prediksi: 4.70737844372687\n",
            "Wisata: Taman Wisata Alam Kubu Raya, Skor Prediksi: 4.694590646329068\n"
          ]
        }
      ]
    }
  ]
}